{
 "cells": [
  {
   "cell_type": "code",
   "execution_count": 1,
   "id": "64cf8f0e",
   "metadata": {},
   "outputs": [],
   "source": [
    "from pyspark.ml import PipelineModel\n",
    "from pyspark.sql.functions import col, window\n",
    "from time import sleep\n",
    "from IPython.display import clear_output\n",
    "import seaborn as sns\n",
    "import matplotlib\n",
    "import matplotlib.pyplot as plt\n",
    "from datetime import datetime\n",
    "\n",
    "import warnings\n",
    "warnings.filterwarnings('ignore')"
   ]
  },
  {
   "cell_type": "code",
   "execution_count": 2,
   "id": "f09790d2",
   "metadata": {},
   "outputs": [],
   "source": [
    "streamingRawDF = spark \\\n",
    "  .readStream \\\n",
    "  .format(\"kafka\") \\\n",
    "  .option(\"kafka.bootstrap.servers\", \"localhost:9092\") \\\n",
    "  .option(\"subscribe\", \"sparkTopic\") \\\n",
    "  .load()\n",
    "\n",
    "streamingDF = streamingRawDF.selectExpr(\"CAST(value AS STRING) as text\", \"timestamp\")"
   ]
  },
  {
   "cell_type": "code",
   "execution_count": 3,
   "id": "058a2c21",
   "metadata": {},
   "outputs": [
    {
     "name": "stderr",
     "output_type": "stream",
     "text": [
      "                                                                                \r"
     ]
    }
   ],
   "source": [
    "lrModel = PipelineModel.load(\"file:/home/student/Desktop/twitch-big-data-project/models/lr_regParam0.3\")"
   ]
  },
  {
   "cell_type": "code",
   "execution_count": 4,
   "id": "ff1695cf",
   "metadata": {},
   "outputs": [],
   "source": [
    "streamingPredictionDF = lrModel.transform(streamingDF).select('text', 'prediction', 'timestamp')"
   ]
  },
  {
   "cell_type": "code",
   "execution_count": 5,
   "id": "f974c4aa",
   "metadata": {},
   "outputs": [
    {
     "data": {
      "text/plain": [
       "<pyspark.sql.streaming.StreamingQuery at 0x7fda70ecc370>"
      ]
     },
     "execution_count": 5,
     "metadata": {},
     "output_type": "execute_result"
    }
   ],
   "source": [
    "logs_path = 'message-logs'\n",
    "checkpoint_path = 'message-checkpoints'\n",
    "\n",
    "streamingPredictionDF \\\n",
    "    .writeStream \\\n",
    "    .format(\"parquet\") \\\n",
    "    .queryName(\"changes_ingestion\") \\\n",
    "    .option(\"checkpointLocation\", checkpoint_path) \\\n",
    "    .option(\"path\", logs_path) \\\n",
    "    .outputMode(\"append\") \\\n",
    "    .start()"
   ]
  },
  {
   "cell_type": "code",
   "execution_count": 7,
   "id": "bc296bb4",
   "metadata": {},
   "outputs": [
    {
     "name": "stderr",
     "output_type": "stream",
     "text": [
      "2022-12-01 02:53:08,137 WARN scheduler.DAGScheduler: Broadcasting large task binary with size 10.2 MiB\n",
      "2022-12-01 02:53:09,249 WARN scheduler.DAGScheduler: Broadcasting large task binary with size 10.2 MiB\n"
     ]
    }
   ],
   "source": [
    "mySchema = spark.read.parquet(logs_path).schema\n",
    "\n",
    "df_stream = (\n",
    "    spark \\\n",
    "    .readStream \\\n",
    "    .schema(mySchema) \\\n",
    "    .format(\"parquet\") \\\n",
    "    .load(logs_path) \\\n",
    ")"
   ]
  },
  {
   "cell_type": "code",
   "execution_count": 8,
   "id": "c4edf46b",
   "metadata": {},
   "outputs": [
    {
     "name": "stderr",
     "output_type": "stream",
     "text": [
      "2022-12-01 02:53:10,441 WARN scheduler.DAGScheduler: Broadcasting large task binary with size 10.2 MiB\n",
      "2022-12-01 02:53:11,110 WARN scheduler.DAGScheduler: Broadcasting large task binary with size 10.2 MiB\n",
      "2022-12-01 02:53:11,828 WARN scheduler.DAGScheduler: Broadcasting large task binary with size 10.2 MiB\n"
     ]
    }
   ],
   "source": [
    "df_count = (\n",
    "    df_stream \\\n",
    "    .withWatermark(\"timestamp\", \"10 minutes\") \\\n",
    "    .groupBy(window(col(\"timestamp\"), \"10 minutes\", \"10 minutes\"), col(\"prediction\")) \\\n",
    "    .count())"
   ]
  },
  {
   "cell_type": "code",
   "execution_count": 9,
   "id": "afdd76c7",
   "metadata": {},
   "outputs": [
    {
     "name": "stderr",
     "output_type": "stream",
     "text": [
      "2022-12-01 02:53:12,485 WARN streaming.StreamingQueryManager: Temporary checkpoint location created which is deleted normally when the query didn't fail: /tmp/temporary-0b880f08-6172-4295-b846-474d54fd95fb. If it's required to delete it under any circumstances, please set spark.sql.streaming.forceDeleteTempCheckpointLocation to true. Important to know deleting temp checkpoint folder is best effort.\n",
      "2022-12-01 02:53:13,176 WARN scheduler.DAGScheduler: Broadcasting large task binary with size 10.2 MiB\n",
      "2022-12-01 02:53:13,846 WARN scheduler.DAGScheduler: Broadcasting large task binary with size 10.2 MiB\n",
      "2022-12-01 02:53:14,573 WARN scheduler.DAGScheduler: Broadcasting large task binary with size 10.2 MiB\n",
      "2022-12-01 02:53:16,174 WARN scheduler.DAGScheduler: Broadcasting large task binary with size 10.2 MiB\n",
      "[Stage 23:======>        (89 + 6) / 200][Stage 25:>                 (0 + 0) / 1]\r"
     ]
    }
   ],
   "source": [
    "queryStream = (df_count \\\n",
    " .writeStream \\\n",
    " .format(\"memory\") \\\n",
    " .queryName(\"msg_changes\") \\\n",
    " .outputMode(\"update\") \\\n",
    " .start())"
   ]
  },
  {
   "cell_type": "code",
   "execution_count": null,
   "id": "08c4e485",
   "metadata": {},
   "outputs": [
    {
     "name": "stderr",
     "output_type": "stream",
     "text": [
      "2022-12-01 03:15:01,392 WARN scheduler.DAGScheduler: Broadcasting large task binary with size 10.2 MiB\n",
      "[Stage 1336:(136 + 6) / 200][Stage 1337:> (0 + 0) / 6][Stage 1339:> (0 + 0) / 1]\r"
     ]
    }
   ],
   "source": [
    "matplotlib.rc('font', family='DejaVu Sans')\n",
    "sns.set(style=\"whitegrid\")\n",
    "\n",
    "\n",
    "try:\n",
    "    i=1\n",
    "    while True:\n",
    "        # Clear output\n",
    "        clear_output(wait=True)\n",
    "        df = spark.sql(\n",
    "                \"\"\"\n",
    "                    select\n",
    "                        window.start\n",
    "                        ,window.end\n",
    "                        ,prediction\n",
    "                        ,sum(count) message_count\n",
    "                    from\n",
    "                        msg_changes\n",
    "                    where\n",
    "                        window.start = (select max(window.start) from msg_changes)\n",
    "                    group by\n",
    "                        window.start\n",
    "                        ,window.end\n",
    "                        ,prediction\n",
    "                    order by\n",
    "                        prediction desc\n",
    "                \"\"\"\n",
    "        ).toPandas()\n",
    "        \n",
    "        sns.set_color_codes(\"muted\")\n",
    "        \n",
    "        display(df)\n",
    "        \n",
    "        plt.figure(figsize=(8,6))\n",
    "        try:\n",
    "            # Barplot\n",
    "            sns.barplot(x=\"prediction\", y=\"message_count\", data=df).set(title='Just Chatting')\n",
    "            fig = plt.gcf()\n",
    "            # Show barplot\n",
    "            plt.show()\n",
    "            sleep(10)\n",
    "            i=i+1\n",
    "        except ValueError:\n",
    "            # If Dataframe is empty, pass\n",
    "            pass\n",
    "        \n",
    "except KeyboardInterrupt:\n",
    "    print(\"process interrupted.\")"
   ]
  },
  {
   "cell_type": "code",
   "execution_count": null,
   "id": "028fe346",
   "metadata": {},
   "outputs": [],
   "source": []
  }
 ],
 "metadata": {
  "kernelspec": {
   "display_name": "Python 3 (ipykernel)",
   "language": "python",
   "name": "python3"
  },
  "language_info": {
   "codemirror_mode": {
    "name": "ipython",
    "version": 3
   },
   "file_extension": ".py",
   "mimetype": "text/x-python",
   "name": "python",
   "nbconvert_exporter": "python",
   "pygments_lexer": "ipython3",
   "version": "3.8.11"
  }
 },
 "nbformat": 4,
 "nbformat_minor": 5
}
