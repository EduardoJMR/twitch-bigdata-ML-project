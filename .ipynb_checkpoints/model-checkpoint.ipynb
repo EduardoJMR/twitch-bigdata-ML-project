{
 "cells": [
  {
   "cell_type": "code",
   "execution_count": null,
   "id": "a3e13abe",
   "metadata": {},
   "outputs": [],
   "source": [
    "from pyspark.ml import Pipeline\n",
    "from pyspark.ml.classification import LogisticRegression, LogisticRegressionModel\n",
    "from pyspark.ml.feature import HashingTF, Tokenizer\n",
    "from pyspark.mllib.evaluation import BinaryClassificationMetrics\n",
    "from pyspark.ml.evaluation import BinaryClassificationEvaluator\n",
    "from pyspark.ml.classification import RandomForestClassifier, DecisionTreeClassifier"
   ]
  },
  {
   "cell_type": "code",
   "execution_count": null,
   "id": "06249f7a",
   "metadata": {},
   "outputs": [],
   "source": [
    "trainingDFAllCol = spark.read.format(\"csv\") \\\n",
    "    .option(\"sep\", \",\") \\\n",
    "    .option(\"inferSchema\", \"true\") \\\n",
    "    .load(\"training.csv\")\n",
    "\n",
    "trainingDFPre = trainingDFAllCol.selectExpr(\"_c0 as label\", \"_c5 as text\")\n",
    "trainingDF = trainingDFPre.withColumn(\"label\", trainingDFPre[\"label\"].cast(\"float\"))"
   ]
  },
  {
   "cell_type": "code",
   "execution_count": null,
   "id": "1917bbdf",
   "metadata": {},
   "outputs": [],
   "source": [
    "trainingDFSplit = trainingDF.randomSplit([0.8,0.2],2)"
   ]
  },
  {
   "cell_type": "code",
   "execution_count": null,
   "id": "bc09f3bf",
   "metadata": {},
   "outputs": [],
   "source": [
    "# Configure an ML pipeline, which consists of three stages: tokenizer, hashingTF, and lr.\n",
    "tokenizer = Tokenizer(inputCol=\"text\", outputCol=\"words\")\n",
    "hashingTF = HashingTF(inputCol=tokenizer.getOutputCol(), outputCol=\"features\")\n",
    "lr = LogisticRegression(maxIter=10, regParam=0.3, labelCol=\"label\") #default regParam=0.001\n",
    "rfc = RandomForestClassifier(featuresCol=\"features\", labelCol=\"label\", numTrees=128, seed=42)\n",
    "dt = DecisionTreeClassifier(maxDepth=2, featuresCol=\"features\", labelCol=\"label\")\n",
    "pipeline = Pipeline(stages=[tokenizer, hashingTF, lr])"
   ]
  },
  {
   "cell_type": "code",
   "execution_count": null,
   "id": "6f461e7c",
   "metadata": {},
   "outputs": [],
   "source": [
    "model = pipeline.fit(trainingDFSplit[0])"
   ]
  },
  {
   "cell_type": "code",
   "execution_count": null,
   "id": "e9739c12",
   "metadata": {},
   "outputs": [],
   "source": [
    "model.save(\"file:/home/student/Desktop/twitch-big-data-project/models/lr_regParam0.3\")"
   ]
  },
  {
   "cell_type": "code",
   "execution_count": null,
   "id": "ec546710",
   "metadata": {},
   "outputs": [],
   "source": [
    "# Make predictions on test documents and print columns of interest\n",
    "prediction = model.transform(trainingDFSplit[1])\n",
    "predictionAndLabels = prediction.select(\"prediction\", \"label\").rdd\n",
    "metrics = BinaryClassificationMetrics(predictionAndLabels)\n",
    "print(\"Area under ROC = %s\" % metrics.areaUnderROC)"
   ]
  }
 ],
 "metadata": {
  "kernelspec": {
   "display_name": "Python 3 (ipykernel)",
   "language": "python",
   "name": "python3"
  },
  "language_info": {
   "codemirror_mode": {
    "name": "ipython",
    "version": 3
   },
   "file_extension": ".py",
   "mimetype": "text/x-python",
   "name": "python",
   "nbconvert_exporter": "python",
   "pygments_lexer": "ipython3",
   "version": "3.8.11"
  }
 },
 "nbformat": 4,
 "nbformat_minor": 5
}
