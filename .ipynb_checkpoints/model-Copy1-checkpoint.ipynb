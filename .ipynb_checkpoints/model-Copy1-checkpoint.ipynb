{
 "cells": [
  {
   "cell_type": "code",
   "execution_count": 2,
   "id": "2b38fd81",
   "metadata": {},
   "outputs": [],
   "source": [
    "test = sc.textFile(\"twitch-project/jc.*.txt\") \\\n",
    "    .map(lambda line: line.split(\" \"))"
   ]
  },
  {
   "cell_type": "code",
   "execution_count": 1,
   "id": "06249f7a",
   "metadata": {},
   "outputs": [
    {
     "name": "stderr",
     "output_type": "stream",
     "text": [
      "                                                                                \r"
     ]
    }
   ],
   "source": [
    "trainingDFAllCol = spark.read.format(\"csv\") \\\n",
    "    .option(\"sep\", \",\") \\\n",
    "    .option(\"inferSchema\", \"true\") \\\n",
    "    .load(\"training.csv\")\n",
    "\n",
    "trainingDFPre = trainingDFAllCol.selectExpr(\"_c0 as label\", \"_c5 as text\")\n",
    "trainingDF = trainingDFPre.withColumn(\"label\", trainingDFPre[\"label\"].cast(\"float\"))"
   ]
  },
  {
   "cell_type": "code",
   "execution_count": 2,
   "id": "7a75d885",
   "metadata": {},
   "outputs": [
    {
     "name": "stdout",
     "output_type": "stream",
     "text": [
      "root\n",
      " |-- label: float (nullable = true)\n",
      " |-- text: string (nullable = true)\n",
      "\n",
      "+-----+--------------------+\n",
      "|label|                text|\n",
      "+-----+--------------------+\n",
      "|  0.0|@switchfoot http:...|\n",
      "|  0.0|is upset that he ...|\n",
      "|  0.0|@Kenichan I dived...|\n",
      "|  0.0|my whole body fee...|\n",
      "|  0.0|@nationwideclass ...|\n",
      "|  0.0|@Kwesidei not the...|\n",
      "|  0.0|         Need a hug |\n",
      "|  0.0|@LOLTrish hey  lo...|\n",
      "|  0.0|@Tatiana_K nope t...|\n",
      "|  0.0|@twittera que me ...|\n",
      "|  0.0|spring break in p...|\n",
      "|  0.0|I just re-pierced...|\n",
      "|  0.0|@caregiving I cou...|\n",
      "|  0.0|@octolinz16 It it...|\n",
      "|  0.0|@smarrison i woul...|\n",
      "|  0.0|@iamjazzyfizzle I...|\n",
      "|  0.0|Hollis' death sce...|\n",
      "|  0.0|about to file taxes |\n",
      "|  0.0|@LettyA ahh ive a...|\n",
      "|  0.0|@FakerPattyPattz ...|\n",
      "+-----+--------------------+\n",
      "only showing top 20 rows\n",
      "\n"
     ]
    },
    {
     "name": "stderr",
     "output_type": "stream",
     "text": [
      "\r",
      "[Stage 3:===================>                                       (2 + 4) / 6]\r",
      "\r",
      "                                                                                \r"
     ]
    },
    {
     "data": {
      "text/plain": [
       "1600000"
      ]
     },
     "execution_count": 2,
     "metadata": {},
     "output_type": "execute_result"
    }
   ],
   "source": [
    "trainingDF.printSchema()\n",
    "trainingDF.show()\n",
    "trainingDF.count()"
   ]
  },
  {
   "cell_type": "code",
   "execution_count": 3,
   "id": "1917bbdf",
   "metadata": {},
   "outputs": [
    {
     "name": "stderr",
     "output_type": "stream",
     "text": [
      "                                                                                \r"
     ]
    },
    {
     "data": {
      "text/plain": [
       "1279698"
      ]
     },
     "execution_count": 3,
     "metadata": {},
     "output_type": "execute_result"
    }
   ],
   "source": [
    "#from sklearn.model_selection import train_test_split\n",
    "#trainingDF80Pandas, testDF20Pandas = train_test_split(trainingDF.toPandas(), test_size=0.2)\n",
    "\n",
    "trainingDFSplit = trainingDF.randomSplit([0.8,0.2],2)\n",
    "trainingDFSplit[0].count()"
   ]
  },
  {
   "cell_type": "code",
   "execution_count": 4,
   "id": "27049a10",
   "metadata": {},
   "outputs": [
    {
     "name": "stderr",
     "output_type": "stream",
     "text": [
      "                                                                                \r"
     ]
    },
    {
     "data": {
      "text/plain": [
       "320302"
      ]
     },
     "execution_count": 4,
     "metadata": {},
     "output_type": "execute_result"
    }
   ],
   "source": [
    "trainingDFSplit[1].count()"
   ]
  },
  {
   "cell_type": "code",
   "execution_count": 5,
   "id": "a3e13abe",
   "metadata": {},
   "outputs": [],
   "source": [
    "from pyspark.ml import Pipeline\n",
    "from pyspark.ml.classification import LogisticRegression\n",
    "from pyspark.ml.feature import HashingTF, Tokenizer\n",
    "from pyspark.sql import Row\n",
    "from pyspark.mllib.evaluation import BinaryClassificationMetrics\n",
    "from pyspark.ml.evaluation import BinaryClassificationEvaluator"
   ]
  },
  {
   "cell_type": "code",
   "execution_count": 6,
   "id": "bc09f3bf",
   "metadata": {},
   "outputs": [],
   "source": [
    "# Configure an ML pipeline, which consists of three stages: tokenizer, hashingTF, and lr.\n",
    "tokenizer = Tokenizer(inputCol=\"text\", outputCol=\"words\")\n",
    "hashingTF = HashingTF(inputCol=tokenizer.getOutputCol(), outputCol=\"features\")\n",
    "lr = LogisticRegression(maxIter=10, regParam=0.3, labelCol=\"label\") #default regParam=0.001\n",
    "pipeline = Pipeline(stages=[tokenizer, hashingTF, lr])"
   ]
  },
  {
   "cell_type": "code",
   "execution_count": 7,
   "id": "1b3f90a2",
   "metadata": {},
   "outputs": [
    {
     "name": "stderr",
     "output_type": "stream",
     "text": [
      "2022-11-23 23:24:03,527 WARN memory.MemoryStore: Not enough space to cache rdd_53_5 in memory! (computed 17.0 MiB so far)\n",
      "2022-11-23 23:24:03,532 WARN storage.BlockManager: Persisting block rdd_53_5 to disk instead.\n",
      "2022-11-23 23:24:06,383 WARN netlib.BLAS: Failed to load implementation from: com.github.fommil.netlib.NativeSystemBLAS\n",
      "2022-11-23 23:24:06,383 WARN netlib.BLAS: Failed to load implementation from: com.github.fommil.netlib.NativeRefBLAS\n",
      "2022-11-23 23:24:06,418 WARN memory.MemoryStore: Not enough space to cache rdd_53_0 in memory! (computed 33.0 MiB so far)\n",
      "2022-11-23 23:24:06,419 WARN memory.MemoryStore: Not enough space to cache rdd_53_2 in memory! (computed 33.0 MiB so far)\n",
      "2022-11-23 23:24:06,419 WARN storage.BlockManager: Persisting block rdd_53_2 to disk instead.\n",
      "2022-11-23 23:24:06,419 WARN storage.BlockManager: Persisting block rdd_53_0 to disk instead.\n",
      "2022-11-23 23:24:06,504 WARN memory.MemoryStore: Not enough space to cache rdd_53_4 in memory! (computed 33.0 MiB so far)\n",
      "2022-11-23 23:24:06,504 WARN storage.BlockManager: Persisting block rdd_53_4 to disk instead.\n",
      "2022-11-23 23:24:06,540 WARN memory.MemoryStore: Not enough space to cache rdd_53_3 in memory! (computed 33.0 MiB so far)\n",
      "2022-11-23 23:24:06,540 WARN storage.BlockManager: Persisting block rdd_53_3 to disk instead.\n",
      "                                                                                \r"
     ]
    }
   ],
   "source": [
    "model = pipeline.fit(trainingDFSplit[0])"
   ]
  },
  {
   "cell_type": "code",
   "execution_count": 8,
   "id": "ec546710",
   "metadata": {},
   "outputs": [
    {
     "name": "stderr",
     "output_type": "stream",
     "text": [
      "2022-11-23 23:24:57,244 WARN scheduler.DAGScheduler: Broadcasting large task binary with size 10.1 MiB\n",
      "2022-11-23 23:24:58,846 WARN scheduler.DAGScheduler: Broadcasting large task binary with size 10.1 MiB\n",
      "[Stage 36:===================>                                      (2 + 4) / 6]\r"
     ]
    },
    {
     "name": "stdout",
     "output_type": "stream",
     "text": [
      "Area under ROC = 0.7636700011758986\n"
     ]
    },
    {
     "name": "stderr",
     "output_type": "stream",
     "text": [
      "\r",
      "                                                                                \r"
     ]
    }
   ],
   "source": [
    "# Make predictions on test documents and print columns of interest\n",
    "prediction = model.transform(trainingDFSplit[1])\n",
    "predictionAndLabels = prediction.select(\"prediction\", \"label\").rdd\n",
    "metrics = BinaryClassificationMetrics(predictionAndLabels)\n",
    "print(\"Area under ROC = %s\" % metrics.areaUnderROC)"
   ]
  },
  {
   "cell_type": "code",
   "execution_count": null,
   "id": "cea1deb8",
   "metadata": {},
   "outputs": [],
   "source": [
    "selected = prediction.select(\"text\", \"probability\", \"prediction\")\n",
    "for row in selected.collect():\n",
    " text, prob, prediction = row \n",
    " print(\n",
    " \"(%s) --> prob=%s, prediction=%f\" % (\n",
    " text, str(prob), prediction \n",
    " )\n",
    " )"
   ]
  },
  {
   "cell_type": "code",
   "execution_count": null,
   "id": "35044f06",
   "metadata": {},
   "outputs": [],
   "source": []
  }
 ],
 "metadata": {
  "kernelspec": {
   "display_name": "Python 3 (ipykernel)",
   "language": "python",
   "name": "python3"
  },
  "language_info": {
   "codemirror_mode": {
    "name": "ipython",
    "version": 3
   },
   "file_extension": ".py",
   "mimetype": "text/x-python",
   "name": "python",
   "nbconvert_exporter": "python",
   "pygments_lexer": "ipython3",
   "version": "3.8.11"
  }
 },
 "nbformat": 4,
 "nbformat_minor": 5
}
