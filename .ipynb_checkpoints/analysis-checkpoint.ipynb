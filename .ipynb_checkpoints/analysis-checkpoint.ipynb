{
 "cells": [
  {
   "cell_type": "code",
   "execution_count": null,
   "id": "64cf8f0e",
   "metadata": {},
   "outputs": [],
   "source": [
    "from pyspark.ml import PipelineModel\n",
    "from pyspark.sql.functions import col, window\n",
    "from time import sleep\n",
    "from IPython.display import clear_output\n",
    "import seaborn as sns\n",
    "import matplotlib\n",
    "import matplotlib.pyplot as plt\n",
    "from datetime import datetime\n",
    "\n",
    "import warnings\n",
    "warnings.filterwarnings('ignore')"
   ]
  },
  {
   "cell_type": "code",
   "execution_count": null,
   "id": "f09790d2",
   "metadata": {},
   "outputs": [],
   "source": [
    "streamingRawDF = spark \\\n",
    "  .readStream \\\n",
    "  .format(\"kafka\") \\\n",
    "  .option(\"kafka.bootstrap.servers\", \"localhost:9092\") \\\n",
    "  .option(\"subscribe\", \"sparkTopic\") \\\n",
    "  .load()\n",
    "\n",
    "streamingDF = streamingRawDF.selectExpr(\"CAST(value AS STRING) as text\", \"timestamp\")"
   ]
  },
  {
   "cell_type": "code",
   "execution_count": null,
   "id": "058a2c21",
   "metadata": {},
   "outputs": [],
   "source": [
    "lrModel = PipelineModel.load(\"file:/home/student/Desktop/twitch-big-data-project/models/lr_regParam0.3\")"
   ]
  },
  {
   "cell_type": "code",
   "execution_count": null,
   "id": "ff1695cf",
   "metadata": {},
   "outputs": [],
   "source": [
    "streamingPredictionDF = lrModel.transform(streamingDF).select('text', 'prediction', 'timestamp')"
   ]
  },
  {
   "cell_type": "code",
   "execution_count": null,
   "id": "f974c4aa",
   "metadata": {},
   "outputs": [],
   "source": [
    "logs_path = 'message-logs'\n",
    "checkpoint_path = 'message-checkpoints'\n",
    "\n",
    "streamingPredictionDF \\\n",
    "    .writeStream \\\n",
    "    .format(\"parquet\") \\\n",
    "    .queryName(\"changes_ingestion\") \\\n",
    "    .option(\"checkpointLocation\", checkpoint_path) \\\n",
    "    .option(\"path\", logs_path) \\\n",
    "    .outputMode(\"append\") \\\n",
    "    .start()"
   ]
  },
  {
   "cell_type": "code",
   "execution_count": null,
   "id": "bc296bb4",
   "metadata": {},
   "outputs": [],
   "source": [
    "mySchema = spark.read.parquet(logs_path).schema\n",
    "\n",
    "df_stream = (\n",
    "    spark \\\n",
    "    .readStream \\\n",
    "    .schema(mySchema) \\\n",
    "    .format(\"parquet\") \\\n",
    "    .load(logs_path) \\\n",
    ")"
   ]
  },
  {
   "cell_type": "code",
   "execution_count": null,
   "id": "c4edf46b",
   "metadata": {},
   "outputs": [],
   "source": [
    "df_count = (\n",
    "    df_stream \\\n",
    "    .withWatermark(\"timestamp\", \"10 minutes\") \\\n",
    "    .groupBy(window(col(\"timestamp\"), \"10 minutes\", \"10 minutes\"), col(\"prediction\")) \\\n",
    "    .count())"
   ]
  },
  {
   "cell_type": "code",
   "execution_count": null,
   "id": "afdd76c7",
   "metadata": {},
   "outputs": [],
   "source": [
    "queryStream = (df_count \\\n",
    " .writeStream \\\n",
    " .format(\"memory\") \\\n",
    " .queryName(\"msg_changes\") \\\n",
    " .outputMode(\"update\") \\\n",
    " .start())"
   ]
  },
  {
   "cell_type": "code",
   "execution_count": null,
   "id": "08c4e485",
   "metadata": {},
   "outputs": [],
   "source": [
    "matplotlib.rc('font', family='DejaVu Sans')\n",
    "sns.set(style=\"whitegrid\")\n",
    "\n",
    "\n",
    "try:\n",
    "    i=1\n",
    "    while True:\n",
    "        # Clear output\n",
    "        clear_output(wait=True)\n",
    "        df = spark.sql(\n",
    "                \"\"\"\n",
    "                    select\n",
    "                        window.start\n",
    "                        ,window.end\n",
    "                        ,prediction\n",
    "                        ,sum(count) message_count\n",
    "                    from\n",
    "                        msg_changes\n",
    "                    where\n",
    "                        window.start = (select max(window.start) from msg_changes)\n",
    "                    group by\n",
    "                        window.start\n",
    "                        ,window.end\n",
    "                        ,prediction\n",
    "                    order by\n",
    "                        prediction desc\n",
    "                \"\"\"\n",
    "        ).toPandas()\n",
    "        \n",
    "        sns.set_color_codes(\"muted\")\n",
    "        \n",
    "        display(df)\n",
    "        \n",
    "        plt.figure(figsize=(8,6))\n",
    "        try:\n",
    "            # Barplot\n",
    "            sns.barplot(x=\"prediction\", y=\"message_count\", data=df).set(title='Just Chatting')\n",
    "            fig = plt.gcf()\n",
    "            # Show barplot\n",
    "            plt.show()\n",
    "            sleep(10)\n",
    "            i=i+1\n",
    "        except ValueError:\n",
    "            # If Dataframe is empty, pass\n",
    "            pass\n",
    "        \n",
    "except KeyboardInterrupt:\n",
    "    print(\"process interrupted.\")"
   ]
  }
 ],
 "metadata": {
  "kernelspec": {
   "display_name": "Python 3 (ipykernel)",
   "language": "python",
   "name": "python3"
  },
  "language_info": {
   "codemirror_mode": {
    "name": "ipython",
    "version": 3
   },
   "file_extension": ".py",
   "mimetype": "text/x-python",
   "name": "python",
   "nbconvert_exporter": "python",
   "pygments_lexer": "ipython3",
   "version": "3.8.11"
  }
 },
 "nbformat": 4,
 "nbformat_minor": 5
}
